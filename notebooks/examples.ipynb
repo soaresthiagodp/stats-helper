{
 "cells": [
  {
   "cell_type": "code",
   "execution_count": 29,
   "id": "f167e1ba",
   "metadata": {},
   "outputs": [],
   "source": [
    "# Basic Imports\n",
    "import json\n",
    "import numpy as np\n",
    "import pandas as pd\n",
    "from statshelper import StatisticsInfo, Hypothesis"
   ]
  },
  {
   "cell_type": "markdown",
   "id": "a35482ef",
   "metadata": {},
   "source": [
    "# 1. Utilities Examples"
   ]
  },
  {
   "cell_type": "markdown",
   "id": "ffb84290",
   "metadata": {},
   "source": [
    "## 1.1 `get_statistics`"
   ]
  },
  {
   "cell_type": "code",
   "execution_count": 13,
   "id": "03b37717",
   "metadata": {},
   "outputs": [
    {
     "name": "stdout",
     "output_type": "stream",
     "text": [
      "Population Statistics:\n",
      "{'mean': 21.5, 'std': 7.671375365604267, 'count': 10, 'variance': 58.85, 'cv': 0.35680815653973336, 'min': 10.0, 'max': 35.0, 'q1': 15.75, 'q2': 21.0, 'q3': 27.25, 'iqr': 11.5}\n",
      "\n",
      "Sample Statistics with Z-scores:\n",
      "{'mean': 21.5, 'std': 8.086339647138802, 'count': 10, 'variance': 65.38888888888889, 'cv': 0.3761088207971536, 'min': 10.0, 'max': 35.0, 'q1': 15.75, 'q2': 21.0, 'q3': 27.25, 'iqr': 11.5, 'z_score': [-1.4221514927423382, -1.1748207983523664, -0.8038247567674086, -0.4328287151824508, -0.1854980207924789, 0.06183267359749297, 0.4328287151824508, 0.8038247567674086, 1.0511554511573804, 1.6694821871323102]}\n"
     ]
    }
   ],
   "source": [
    "# Example data\n",
    "data = [10, 12, 15, 18, 20, 22, 25, 28, 30, 35]\n",
    "\n",
    "# Get statistics (population)\n",
    "stats_pop = StatisticsInfo.get_statistics(data, is_sample=False)\n",
    "print(\"Population Statistics:\")\n",
    "print(stats_pop)\n",
    "\n",
    "# Get statistics (sample) with z-scores\n",
    "stats_sample = StatisticsInfo.get_statistics(data, is_sample=True, return_z_score=True)\n",
    "print(\"\\nSample Statistics with Z-scores:\")\n",
    "print(stats_sample)"
   ]
  },
  {
   "cell_type": "markdown",
   "id": "0fbc47dd",
   "metadata": {},
   "source": [
    "## 1.2 `get_z_critical` and `get_t_critical`"
   ]
  },
  {
   "cell_type": "code",
   "execution_count": 14,
   "id": "5a65486d",
   "metadata": {},
   "outputs": [
    {
     "name": "stdout",
     "output_type": "stream",
     "text": [
      "Z-critical for 95.0% confidence: 1.9600\n",
      "T-critical for 95.0% confidence with 15 df: 2.1314\n"
     ]
    }
   ],
   "source": [
    "# Get critical values based on normal (z) or t-distribution (t)\n",
    "confidence = 0.95\n",
    "df = 15  # degrees of freedom, always data_size - 1\n",
    "\n",
    "z_crit = StatisticsInfo.get_z_critical(confidence)\n",
    "t_crit = StatisticsInfo.get_t_critical(confidence, df)\n",
    "\n",
    "print(f\"Z-critical for {confidence*100}% confidence: {z_crit:.4f}\")\n",
    "print(f\"T-critical for {confidence*100}% confidence with {df} df: {t_crit:.4f}\")"
   ]
  },
  {
   "cell_type": "markdown",
   "id": "bb7813b5",
   "metadata": {},
   "source": [
    "## 1.3 `calculate_bin_width`"
   ]
  },
  {
   "cell_type": "code",
   "execution_count": 15,
   "id": "99c715a3",
   "metadata": {},
   "outputs": [
    {
     "name": "stdout",
     "output_type": "stream",
     "text": [
      "Recommended 7 bins with 1.5 width\n"
     ]
    }
   ],
   "source": [
    "# Calculate bin width based on Sturges Rule\n",
    "data: list[float] = [\n",
    "    4.7, 4.9, 5.1, 5.4, 5.7, 6.0, 6.3, 6.8, 7.3, 8.9,\n",
    "    4.8, 4.9, 5.2, 5.5, 5.7, 6.2, 6.4, 6.9, 8.2, 9.1,\n",
    "    4.8, 5.0, 5.3, 5.6, 5.7, 6.2, 6.5, 7.0, 8.2, 9.9,\n",
    "    4.9, 5.0, 5.4, 5.6, 5.9, 6.2, 6.7, 7.1, 8.3, 14.1,\n",
    "    4.9, 5.0, 5.4, 5.7, 6.0, 6.3, 6.8, 7.3, 8.4, 15.2\n",
    "]\n",
    "\n",
    "num_bins, bin_width = StatisticsInfo.calculate_bin_width(data)\n",
    "print(f\"Recommended {num_bins} bins with {bin_width} width\")"
   ]
  },
  {
   "cell_type": "markdown",
   "id": "fa6876b4",
   "metadata": {},
   "source": [
    "# 2. Basic Calculations Examples"
   ]
  },
  {
   "cell_type": "markdown",
   "id": "c8b143b4",
   "metadata": {},
   "source": [
    "## 2.1 `calculate_mean_sample_size`"
   ]
  },
  {
   "cell_type": "code",
   "execution_count": 16,
   "id": "0b1893d0",
   "metadata": {},
   "outputs": [
    {
     "name": "stdout",
     "output_type": "stream",
     "text": [
      "Sample size (infinite population): 97\n",
      "Sample size (finite population N=1000): 88\n"
     ]
    }
   ],
   "source": [
    "# Infinite population\n",
    "sample_size_inf = StatisticsInfo.calculate_mean_sample_size(\n",
    "    confidence=0.95,\n",
    "    error=2,\n",
    "    std_dev=10\n",
    ")\n",
    "print(f\"Sample size (infinite population): {sample_size_inf}\")\n",
    "\n",
    "# Finite population\n",
    "sample_size_finite = StatisticsInfo.calculate_mean_sample_size(\n",
    "    confidence=0.95,\n",
    "    error=2,\n",
    "    std_dev=10,\n",
    "    population_size=1000\n",
    ")\n",
    "print(f\"Sample size (finite population N=1000): {sample_size_finite}\")"
   ]
  },
  {
   "cell_type": "markdown",
   "id": "f1b925fc",
   "metadata": {},
   "source": [
    "## 2.2 `calculate_mean_error`"
   ]
  },
  {
   "cell_type": "code",
   "execution_count": 17,
   "id": "e0e2df73",
   "metadata": {},
   "outputs": [
    {
     "name": "stdout",
     "output_type": "stream",
     "text": [
      "Margin of error (z): 1.7892\n",
      "Margin of error (t): 1.8670\n"
     ]
    }
   ],
   "source": [
    "# Using z-distribution (known population std)\n",
    "error_z = StatisticsInfo.calculate_mean_error(\n",
    "    confidence=0.95,\n",
    "    data_size=30,\n",
    "    std_dev=5,\n",
    "    is_sample_std=False\n",
    ")\n",
    "print(f\"Margin of error (z): {error_z:.4f}\")\n",
    "\n",
    "# Using t-distribution (sample std)\n",
    "error_t = StatisticsInfo.calculate_mean_error(\n",
    "    confidence=0.95,\n",
    "    data_size=30,\n",
    "    std_dev=5,\n",
    "    is_sample_std=True\n",
    ")\n",
    "print(f\"Margin of error (t): {error_t:.4f}\")"
   ]
  },
  {
   "cell_type": "code",
   "execution_count": 18,
   "id": "6290f712",
   "metadata": {},
   "outputs": [
    {
     "name": "stdout",
     "output_type": "stream",
     "text": [
      "Two-sided\n",
      "t_stat=1.6667\n",
      "p_value=0.10858\n",
      "decision='Accept H0'\n",
      "\n",
      "Right\n",
      "z_stat=2.0000\n",
      "p_value=0.02275\n",
      "decision='Reject H0'\n",
      "\n",
      "Left\n",
      "z_stat=2.0000\n",
      "p_value=0.97725\n",
      "decision='Accept H0'\n",
      "\n"
     ]
    }
   ],
   "source": [
    "# This function returns p_value and can also print an evaluation if desired\n",
    "\n",
    "# Two-sided t-test example\n",
    "print('Two-sided')\n",
    "p_value = Hypothesis.calculate_mean_pvalue(\n",
    "    data_size=25,\n",
    "    sample_mean=105,\n",
    "    std_dev=15,\n",
    "    significance=0.05,\n",
    "    hypothesis_mean=100,\n",
    "    alternative=\"two-sided\",\n",
    "    is_sample_std=True,\n",
    "    print_evaluation=True\n",
    ")\n",
    "\n",
    "# One-sided right z-test example\n",
    "print('\\nRight')\n",
    "p_value = Hypothesis.calculate_mean_pvalue(\n",
    "    data_size=100,\n",
    "    sample_mean=52,\n",
    "    std_dev=10,\n",
    "    significance=0.05,\n",
    "    hypothesis_mean=50,\n",
    "    alternative=\"right\",\n",
    "    is_sample_std=False,\n",
    "    print_evaluation=True\n",
    ")\n",
    "\n",
    "# One-sided left t-test example\n",
    "print('\\nLeft')\n",
    "p_value = Hypothesis.calculate_mean_pvalue(\n",
    "    data_size=100,\n",
    "    sample_mean=52,\n",
    "    std_dev=10,\n",
    "    significance=0.05,\n",
    "    hypothesis_mean=50,\n",
    "    alternative=\"left\",\n",
    "    is_sample_std=False,\n",
    "    print_evaluation=True\n",
    ")\n",
    "print()"
   ]
  },
  {
   "cell_type": "markdown",
   "id": "25916474",
   "metadata": {},
   "source": [
    "## 2.3 `calculate_proportion_sample_size`"
   ]
  },
  {
   "cell_type": "code",
   "execution_count": 19,
   "id": "e6620672",
   "metadata": {},
   "outputs": [
    {
     "name": "stdout",
     "output_type": "stream",
     "text": [
      "Sample size (infinite population): 1068\n",
      "Sample size (finite population N=5000): 880\n"
     ]
    }
   ],
   "source": [
    "# Infinite population (unknown size)\n",
    "sample_size_inf = StatisticsInfo.calculate_proportion_sample_size(\n",
    "    confidence=0.95,\n",
    "    error=0.03,\n",
    "    p=0.5\n",
    ")\n",
    "print(f\"Sample size (infinite population): {sample_size_inf}\")\n",
    "\n",
    "# Finite population (known size)\n",
    "sample_size_finite = StatisticsInfo.calculate_proportion_sample_size(\n",
    "    confidence=0.95,\n",
    "    error=0.03,\n",
    "    p=0.5,\n",
    "    population_size=5000\n",
    ")\n",
    "print(f\"Sample size (finite population N=5000): {sample_size_finite}\")"
   ]
  },
  {
   "cell_type": "markdown",
   "id": "4500ab2c",
   "metadata": {},
   "source": [
    "## 2.4 `calculate_proportion_error`"
   ]
  },
  {
   "cell_type": "code",
   "execution_count": 20,
   "id": "561444f5",
   "metadata": {},
   "outputs": [
    {
     "name": "stdout",
     "output_type": "stream",
     "text": [
      "Margin of error: 0.0429\n"
     ]
    }
   ],
   "source": [
    "# Margin of error for proportion\n",
    "error = StatisticsInfo.calculate_proportion_error(\n",
    "    confidence=0.95,\n",
    "    data_size=500,\n",
    "    p=0.4\n",
    ")\n",
    "print(f\"Margin of error: {error:.4f}\")"
   ]
  },
  {
   "cell_type": "markdown",
   "id": "ae678e84",
   "metadata": {},
   "source": [
    "# 3. Hypothesis Testing Examples"
   ]
  },
  {
   "cell_type": "markdown",
   "id": "484f0704",
   "metadata": {},
   "source": [
    "## 3.1 `calculate_mean_pvalue`"
   ]
  },
  {
   "cell_type": "markdown",
   "id": "43fa6258",
   "metadata": {},
   "source": [
    "## 3.2 `calculate_proportion_pvalue`"
   ]
  },
  {
   "cell_type": "code",
   "execution_count": 21,
   "id": "cf74e721",
   "metadata": {},
   "outputs": [
    {
     "name": "stdout",
     "output_type": "stream",
     "text": [
      "Two-sided\n",
      "z_stat=3.1623\n",
      "p_value=0.00157\n",
      "decision='Reject H0'\n",
      "\n",
      "Right\n",
      "z_stat=3.1623\n",
      "p_value=0.00078\n",
      "decision='Reject H0'\n",
      "\n",
      "Left\n",
      "z_stat=3.1623\n",
      "p_value=0.99922\n",
      "decision='Accept H0'\n"
     ]
    }
   ],
   "source": [
    "# This function returns p_value and can also print an evaluation if desired\n",
    "\n",
    "# Two-sided proportion test\n",
    "print('Two-sided')\n",
    "p_value = Hypothesis.calculate_proportion_pvalue(\n",
    "    data_size=1000,\n",
    "    sample_proportion=0.55,\n",
    "    significance=0.05,\n",
    "    hypothesis_proportion=0.5,\n",
    "    alternative=\"two-sided\",\n",
    "    print_evaluation=True\n",
    ")\n",
    "\n",
    "print('\\nRight')\n",
    "p_value = Hypothesis.calculate_proportion_pvalue(\n",
    "    data_size=1000,\n",
    "    sample_proportion=0.55,\n",
    "    significance=0.05,\n",
    "    hypothesis_proportion=0.5,\n",
    "    alternative=\"right\",\n",
    "    print_evaluation=True\n",
    ")\n",
    "\n",
    "print('\\nLeft')\n",
    "p_value = Hypothesis.calculate_proportion_pvalue(\n",
    "    data_size=1000,\n",
    "    sample_proportion=0.55,\n",
    "    significance=0.05,\n",
    "    hypothesis_proportion=0.5,\n",
    "    alternative=\"left\",\n",
    "    print_evaluation=True\n",
    ")\n"
   ]
  },
  {
   "cell_type": "markdown",
   "id": "f03384a8",
   "metadata": {},
   "source": [
    "## 3.3 `compare_variances_f_test`"
   ]
  },
  {
   "cell_type": "code",
   "execution_count": 23,
   "id": "9b04d9c5",
   "metadata": {},
   "outputs": [
    {
     "name": "stdout",
     "output_type": "stream",
     "text": [
      "F_stat=0.4656 df_num=19 df_den=19\n",
      "p_value=0.10410\n",
      "decision='Accept H0'\n"
     ]
    }
   ],
   "source": [
    "machine_a = [145, 142, 136, 133, 131, 131, 132, 127, 138, 139,\n",
    "             138, 131, 139, 140, 123, 137, 128, 137, 133, 132]\n",
    "\n",
    "machine_b = [133, 123, 133, 130, 129, 129, 133, 137, 142, 151,\n",
    "             135, 139, 151, 136, 141, 147, 145, 139, 151, 139]\n",
    "\n",
    "p_value = Hypothesis.compare_variances_f_test(\n",
    "    variance_1=np.var(machine_a),\n",
    "    variance_2=np.var(machine_b),\n",
    "    size_1=len(machine_a),\n",
    "    size_2=len(machine_b),\n",
    "    significance=0.05,\n",
    "    alternative='two-sided',\n",
    "    print_evaluation=True\n",
    ")"
   ]
  },
  {
   "cell_type": "markdown",
   "id": "1522eaa8",
   "metadata": {},
   "source": [
    "## 3.4 `compare_proportions_z_test`"
   ]
  },
  {
   "cell_type": "code",
   "execution_count": 24,
   "id": "0aae84c5",
   "metadata": {},
   "outputs": [
    {
     "name": "stdout",
     "output_type": "stream",
     "text": [
      "z_stat=3.0619\n",
      "p_value=0.00220\n",
      "decision='Reject H0'\n"
     ]
    }
   ],
   "source": [
    "p_value = Hypothesis.compare_proportions_z_test(\n",
    "    success_count_1=26,\n",
    "    success_count_2=54,\n",
    "    size_1=40,\n",
    "    size_2=60,\n",
    "    significance=0.05,\n",
    "    alternative=\"two-sided\",\n",
    "    print_evaluation=True,\n",
    ")"
   ]
  },
  {
   "cell_type": "markdown",
   "id": "5a5bf082",
   "metadata": {},
   "source": [
    "## 3.5 `normality_tests`"
   ]
  },
  {
   "cell_type": "code",
   "execution_count": 30,
   "id": "0e3b3728",
   "metadata": {},
   "outputs": [
    {
     "name": "stdout",
     "output_type": "stream",
     "text": [
      "{\n",
      "    \"shapiro-wilk\": {\n",
      "        \"statistic\": 0.948396357682718,\n",
      "        \"p_value\": 0.3434029039034991\n",
      "    },\n",
      "    \"kolmogorov-smirnov\": {\n",
      "        \"statistic\": 0.10416824098227495,\n",
      "        \"p_value\": 0.9659208979218078\n",
      "    },\n",
      "    \"anderson-darling\": {\n",
      "        \"statistic\": 0.3393224930221592,\n",
      "        \"critical_values\": [\n",
      "            0.506,\n",
      "            0.577,\n",
      "            0.692,\n",
      "            0.807,\n",
      "            0.96\n",
      "        ],\n",
      "        \"significance_levels\": [\n",
      "            15.0,\n",
      "            10.0,\n",
      "            5.0,\n",
      "            2.5,\n",
      "            1.0\n",
      "        ]\n",
      "    }\n",
      "}\n"
     ]
    }
   ],
   "source": [
    "data = [15.2, 12.4, 15.4, 16.5, 15.9, 17.1, 16.9, 14.3, 19.1, 18.2,\n",
    "        18.5, 16.3, 20, 19.2, 12.3, 12.8, 17.9, 16.3, 18.7, 16.2]\n",
    "\n",
    "results = Hypothesis.normality_tests(data)\n",
    "\n",
    "print(json.dumps(results, indent=4))"
   ]
  }
 ],
 "metadata": {
  "kernelspec": {
   "display_name": ".venv",
   "language": "python",
   "name": "python3"
  },
  "language_info": {
   "codemirror_mode": {
    "name": "ipython",
    "version": 3
   },
   "file_extension": ".py",
   "mimetype": "text/x-python",
   "name": "python",
   "nbconvert_exporter": "python",
   "pygments_lexer": "ipython3",
   "version": "3.12.3"
  }
 },
 "nbformat": 4,
 "nbformat_minor": 5
}
