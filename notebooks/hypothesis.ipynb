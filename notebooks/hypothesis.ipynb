{
 "cells": [
  {
   "cell_type": "code",
   "execution_count": 1,
   "id": "ed58dfb0",
   "metadata": {},
   "outputs": [],
   "source": [
    "from stats_helper import StatisticsInfo"
   ]
  },
  {
   "cell_type": "markdown",
   "id": "b500b51e",
   "metadata": {},
   "source": [
    "# Examples\n",
    "Em uma amostra de tamanho 20 foram observados 5 sucessos. Testar se p>0.2\n",
    "com nível de significância de 5%."
   ]
  },
  {
   "cell_type": "markdown",
   "id": "8c3380aa",
   "metadata": {},
   "source": [
    "## 1.\n",
    "Em uma amostra de tamanho 20 foram observados 5 sucessos. Testar se p>0.2\n",
    "com nível de significância de 5%."
   ]
  },
  {
   "cell_type": "code",
   "execution_count": null,
   "id": "445cc9de",
   "metadata": {},
   "outputs": [],
   "source": [
    "\"\"\"\n",
    "H0: p <= 0.2\n",
    "HA: p > 0.2\n",
    "\"\"\"\n",
    "\n",
    "StatisticsInfo.calculate_proportion_pvalue(\n",
    "    data_size=20,\n",
    "    sample_proportion=5/20,\n",
    "    significance=5/100,\n",
    "    hypothesis_proportion=0.2,\n",
    "    alternative='right',\n",
    "    print_evaluation=True\n",
    ")"
   ]
  },
  {
   "cell_type": "code",
   "execution_count": 2,
   "id": "21b0c9c5",
   "metadata": {},
   "outputs": [
    {
     "data": {
      "text/plain": [
       "np.float64(0.0008581206663935692)"
      ]
     },
     "execution_count": 2,
     "metadata": {},
     "output_type": "execute_result"
    }
   ],
   "source": [
    "p_z = StatisticsInfo.calculte_mean_pvalue(\n",
    "            data_size=100,\n",
    "            sample_mean=105,\n",
    "            std_dev=15,\n",
    "            significance=0.05,\n",
    "            hypothesis_mean=100,\n",
    "            alternative=\"two-sided\",\n",
    "            is_sample_std=False\n",
    "        )\n",
    "p_z"
   ]
  },
  {
   "cell_type": "code",
   "execution_count": null,
   "id": "f9800fe8",
   "metadata": {},
   "outputs": [
    {
     "ename": "AttributeError",
     "evalue": "type object 'StatisticsInfo' has no attribute 'calculate_mean_pvalue'",
     "output_type": "error",
     "traceback": [
      "\u001b[31m---------------------------------------------------------------------------\u001b[39m",
      "\u001b[31mAttributeError\u001b[39m                            Traceback (most recent call last)",
      "\u001b[36mCell\u001b[39m\u001b[36m \u001b[39m\u001b[32mIn[8]\u001b[39m\u001b[32m, line 1\u001b[39m\n\u001b[32m----> \u001b[39m\u001b[32m1\u001b[39m \u001b[43mStatisticsInfo\u001b[49m\u001b[43m.\u001b[49m\u001b[43mcalculate_mean_pvalue\u001b[49m(\n\u001b[32m      2\u001b[39m             data_size=\u001b[32m20\u001b[39m,\n\u001b[32m      3\u001b[39m             sample_mean=\u001b[32m22\u001b[39m,\n\u001b[32m      4\u001b[39m             std_dev=\u001b[32m5\u001b[39m,\n\u001b[32m      5\u001b[39m             significance=\u001b[32m0.05\u001b[39m,\n\u001b[32m      6\u001b[39m             hypothesis_mean=\u001b[32m20\u001b[39m,\n\u001b[32m      7\u001b[39m             alternative=\u001b[33m\"\u001b[39m\u001b[33mright\u001b[39m\u001b[33m\"\u001b[39m,\n\u001b[32m      8\u001b[39m             is_sample_std=\u001b[38;5;28;01mTrue\u001b[39;00m\n\u001b[32m      9\u001b[39m         )\n",
      "\u001b[31mAttributeError\u001b[39m: type object 'StatisticsInfo' has no attribute 'calculate_mean_pvalue'"
     ]
    }
   ],
   "source": [
    "StatisticsInfo.calculate_mean_pvalue(\n",
    "    data_size=20,\n",
    "    sample_mean=22,\n",
    "    std_dev=5,\n",
    "    significance=0.05,\n",
    "    hypothesis_mean=20,\n",
    "    alternative=\"right\",\n",
    "    is_sample_std=True\n",
    ")"
   ]
  }
 ],
 "metadata": {
  "kernelspec": {
   "display_name": ".venv",
   "language": "python",
   "name": "python3"
  },
  "language_info": {
   "codemirror_mode": {
    "name": "ipython",
    "version": 3
   },
   "file_extension": ".py",
   "mimetype": "text/x-python",
   "name": "python",
   "nbconvert_exporter": "python",
   "pygments_lexer": "ipython3",
   "version": "3.12.3"
  }
 },
 "nbformat": 4,
 "nbformat_minor": 5
}
